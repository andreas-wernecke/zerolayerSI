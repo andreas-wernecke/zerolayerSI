{
 "cells": [
  {
   "cell_type": "markdown",
   "metadata": {},
   "source": [
    "# Energiebilanz der Erde\n",
    "\n",
    "Im Folgenden sollt Ihr lernen, wie aus einfachen Zusammenhängen die globale Mitteltemperatur berechnet werden kann, wieso unsere Atmosphäre lebensnotwendig für uns ist, und wie sich die Temperatur darin verändern kann. \n",
    "Die Formeln basieren größenteils auf der Vorlesung Meterologie I von Prof. Claussen an der Uni Hamburg.\n",
    "\n",
    "## Wärmequelle\n",
    "\n",
    "Die alles bestimmende Wärmequelle unseres Planeten ist die Sonne. Im Mittel erreicht die Erde eine Sonnenstrahlung mit einer Leistung von $E_s$=1366 W/m2. Aufgrund der Kugelform der Erde und der damit zusammenhängenden schwächeren Einstrahlung in hohen Breiten und im Tages-/Nachtverlauf, bleibt global nur ein Viertel dieser Einstrahlung übrig (342 Wm2). Das entspricht in etwa dem maximalen Bedarf von sechs Laptopnetzteilen. Je nach Breitengrad, Tages- und Jahreszeit ist die vorrübergehende Einstrahlung höher oder niedriger. Außerdem wird Einstrahlung in der Atmosphäre, durch Wolken zum Beispiel, absorbiert und reflektiert. Dies berücksichtigen wir hier aber noch nicht. Die Einstrahlungsstärke von 1366 W/m2 nennt man daher auch Top-Of-the-Atmosphere (TOA) Einstrahlung.\n",
    "\n",
    "Wie wirkt sich diese Einstrahlung auf die Temperatur des Planeten aus? Das werdet ihr Anhand von drei einfachen Energiebilanzmodellen im Folgenden lernen. Die Berechnungen übernimmt dabei für uns ein Python Programm.\n",
    "\n",
    "## Python\n",
    "\n",
    "Python ist eine Programmiersprache, mit der wir den Computer dazu auffordern können, etwas Bestimmtes für uns zu berechnen, zu lesen, zu verändern, zu speichern und vieles mehr. Wir müssen dabei eine bestimmte Syntax befolgen, Ihr könnt gerne versuchen, diese in den Programmcodes unten nachzuvollziehen. Um eine Box mit Programmcode berechnen zu lassen, klickt diese an und wählt danach *Run* in der oberen Leiste aus. \n"
   ]
  },
  {
   "cell_type": "markdown",
   "metadata": {},
   "source": [
    "# Energiebilanzmodell 1\n",
    "\n",
    "Im ersten Modell nehmen wir an, dass die Erde keine Atmosphäre hat und im globalen Mittel 30% der einfallenden Strahlung zurück ins Weltall reflektiert. Alle nicht reflektierte Strahlung wird am Boden direkt in Wärme umgewandelt und erwärmt damit die Erde bis zu einer Temperatur, in der sie genau soviel Energie als Schwarzkörper abgibt, wie sie an Sonneneinstrahlung aufnimmt . \n",
    "\n",
    "Das Modell erfüllt also folgende Vorraussetzungen:\n",
    "- Die Erde ist ein homogener Körper\n",
    "- der Boden hat eine Albedo von $A=0.3$ für Sonneneinstrahlung\n",
    "- und ist ein Schwarzkörper für terrestrische Rückstrahlung\n",
    "\n",
    "Die Energiebilanz solch einer fiktiven Erde wird berechnet aus:\n",
    "\n",
    "$(1-A)\\frac{E_s}{4}-\\sigma T_E^4 = 0$\n",
    "\n",
    "Diese Gleichung lösen wir nach der Temperatur der Erdoberfläche $T_E$ auf. \n",
    "\n",
    "*Nun folgt unser Programmcode. Du kannst gerne die Variablen ändern und gucken was passiert. Zum erneuten Berechnen einfach oben auf ***Run*** klicken.*\n"
   ]
  },
  {
   "cell_type": "code",
   "execution_count": 2,
   "metadata": {},
   "outputs": [
    {
     "name": "stdout",
     "output_type": "stream",
     "text": [
      "Die Temperatur der Erdoberfläche bei einer Einstrahlung von: 1366 Wm2 und einer Albedo von: 0.3 \n",
      "beträgt ohne Atmosphäre: 254K (das entspricht -18°C).\n"
     ]
    }
   ],
   "source": [
    "# Physikalische Konstanten (nicht verändern):\n",
    "\n",
    "sigma = 5.670374419e-8 # W m-2 K-4 Stefan-Boltzmann-Konstante\n",
    "\n",
    "# Variablen:\n",
    "\n",
    "E_s = 1366 # W m-2 TOA Einstrahlung \n",
    "A = 0.3 # Albedo\n",
    "\n",
    "# Energiebilanz Model 1\n",
    "\n",
    "T_E = (((1.-A)*E_s/4.)/sigma)**(1./4.)\n",
    "\n",
    "print('Die Temperatur der Erdoberfläche bei einer Einstrahlung von: %i Wm2 und einer Albedo von: %.1f \\n' %(E_s,A)+\n",
    "     'beträgt ohne Atmosphäre: %iK (das entspricht %i°C).' %(T_E,T_E-273.15))"
   ]
  },
  {
   "cell_type": "markdown",
   "metadata": {},
   "source": [
    "## Fragen 1:\n",
    "\n",
    "- Wie kalt wäre unsere Erde im Mittel, wenn es keine Atmosphäre gäbe?\n",
    "- Was bedeutet das?\n",
    "- Wieviel höher müsste die TOA Einstrahlung sein, damit im Mittel 14°C wären? (dafür müsst ihr ein wenig rumprobieren)\n",
    "- Welchen Einfluss hat die Albedo auf die Temperatur?"
   ]
  },
  {
   "cell_type": "markdown",
   "metadata": {},
   "source": [
    "# Energiebilanzmodell 2\n",
    "\n",
    "Nachdem wir im vorherigen Model erfahren haben, dass es ohne Atmosphäre auf der Erde viel zu kalt wäre um zu überleben, erweitern wir unser Model nun mit einer Atmosphäre. Dafür nehmen wir zunächst an, dass die Atmosphäre alles Sonnenlicht durchlässt - wie an einem super sonnigen Tag -, alle terrestrische Ausstrahlung aber absorbiert. \n",
    "\n",
    "Es sollen also folgende zusätzlichen Vorraussetzungen gelten:\n",
    "\n",
    "- auch die Atmosphäre ist ein Körper, der zwischen Sonne und Boden liegt\n",
    "- sie ist transparent für Sonneneinstrahlung\n",
    "- sie absorbiert alle terrestrische Rückstrahlung\n",
    "- und hat ihre eigene Temperatur $T_A$\n",
    "- der Boden absorbiert alle Rückstrahlung der Atmosphäre und hat die Temperatur $T_B$\n",
    "\n",
    "Daraus ergeben sich als Energiebilanzen für:\n",
    "\n",
    "- den Boden: $(1-A)\\frac{E_s}{4}+\\sigma T_A^4 = \\sigma T_B^4$\n",
    "- die Atmosphäre: $\\sigma T_B^4 = 2\\sigma T_A^4$ (2x da die Atmosphäre sowohl zum Boden als auch in den Weltall abstrahlt)\n",
    "\n",
    "Diese Gleichungen können wir wieder lösen und erhalten die Temperaturen für Atmosphäre und Boden.\n"
   ]
  },
  {
   "cell_type": "code",
   "execution_count": 3,
   "metadata": {},
   "outputs": [
    {
     "name": "stdout",
     "output_type": "stream",
     "text": [
      "Die Berücksichtigung einer Atmosphäre führt zu \n",
      "einer Bodentemperatur von 29°C und \n",
      "einer Atmosphärentemperatur von -18°C\n"
     ]
    }
   ],
   "source": [
    "# Physikalische Konstanten (nicht verändern):\n",
    "\n",
    "sigma = 5.670374419e-8 # W m-2 K-4 Stefan-Boltzmann-Konstante\n",
    "\n",
    "# Variablen:\n",
    "\n",
    "E_s = 1366 # W m-2 TOA Einstrahlung \n",
    "A = 0.3 # Albedo\n",
    "\n",
    "# Energiebilanz Model 2\n",
    "\n",
    "T_A = (((1.-A)*E_s/4.)/sigma)**(1./4.) # Temperatur Atmosphäre\n",
    "\n",
    "T_B = (2*T_A**4)**(1./4.) # Temperatur Boden\n",
    "\n",
    "print('Die Berücksichtigung einer Atmosphäre führt zu \\neiner Bodentemperatur von %i°C und \\n' %(T_B-273.15)+\n",
    "      'einer Atmosphärentemperatur von %i°C' %(T_A-273.15))"
   ]
  },
  {
   "cell_type": "markdown",
   "metadata": {},
   "source": [
    "## Fragen 2:\n",
    "\n",
    "- Wenn wir das Ergebnis mit und ohne Atmosphäre vergleichen, was erkennen wir?\n",
    "- Könnt Ihr Euch vorstellen, wie eine Atmosphäre aussieht, die terrestrische Strahlung komplett absorbiert?"
   ]
  },
  {
   "cell_type": "markdown",
   "metadata": {},
   "source": [
    "# Energiebilanzmodell 3\n",
    "\n",
    "In Wirklichkeit liegt die globale Mitteltemperatur am Boden eher bei 14°C. Die oben ermittelte Temperatur liegt weit darüber, da die Atmosphäre als Schwarzkörper für terrestrische Rückstrahlung angenommen wurde und damit einen maximalen Treibhauseffekt erzeugt. Realistischer wird das Model, wenn wir das Absorptionsvermögen der Atmosphäre auf 0.77 verringern.\n",
    "\n",
    "Es kommt also als weitere Annahme hinzu, dass:\n",
    "\n",
    "- die Atmosphäre eine Emissivität von $\\epsilon_A$=0.77 hat\n",
    "\n",
    "Nun gilt:\n",
    "\n",
    "- Boden: $(1-A)\\frac{E_s}{4}+\\epsilon_A\\sigma T_A^4 = \\sigma T_B^4$\n",
    "- Atmosphäre: $\\epsilon_A\\sigma T_B^4 = 2\\epsilon_A\\sigma T_A^4$ \n"
   ]
  },
  {
   "cell_type": "code",
   "execution_count": 10,
   "metadata": {},
   "outputs": [
    {
     "name": "stdout",
     "output_type": "stream",
     "text": [
      "Die Berücksichtigung einer Atmosphäre mit verringertem Absorptionsvermögen führt zu \n",
      "einer Bodentemperatur von 14°C und \n",
      "einer Atmosphärentemperatur von -21°C\n"
     ]
    }
   ],
   "source": [
    "# Physikalische Konstanten (nicht verändern):\n",
    "\n",
    "sigma = 5.670374419e-8 # W m-2 K-4 Stefan-Boltzmann-Konstante\n",
    "\n",
    "# Variablen:\n",
    "\n",
    "E_s = 1366 # W m-2 TOA Einstrahlung \n",
    "A = 0.3 # Albedo\n",
    "epsilon_A = 0.77 # Emissivität der Atmosphäre\n",
    "\n",
    "# Energiebilanz Model 3\n",
    "\n",
    "T_A = (((1./(2.-epsilon_A))**(1./4.)) * (((1.-A)*E_s/4.)/sigma))**(1./4.)\n",
    "\n",
    "T_B = ((2./(2.-epsilon_A))**(1./4.)) * ((((1.-A)*E_s/4.)/sigma)**(1./4.))\n",
    "\n",
    "print('Die Berücksichtigung einer Atmosphäre mit verringertem Absorptionsvermögen '+\n",
    "      'führt zu \\neiner Bodentemperatur von %i°C und \\n' %(T_B-273.15)+\n",
    "      'einer Atmosphärentemperatur von %i°C' %(T_A-273.15))"
   ]
  },
  {
   "cell_type": "markdown",
   "metadata": {},
   "source": [
    "## Fragen 3:\n",
    "\n",
    "- Nun haben wir ziemlich exakt unsere globale Mitteltemperatur bestimmt, was fehlt in dem Modell?\n",
    "- Welchen realen Prozess gibt es, der die Emissivität der Atmosphäre verändert?"
   ]
  },
  {
   "cell_type": "markdown",
   "metadata": {},
   "source": [
    "# Zusammenfassung Energiebilanzmodelle\n",
    "\n",
    "Wir sehen, dass wir mit simplen Annahmen die Energiebilanz der Erde realistisch nachrechnen können. Dabei haben wir sowohl den unteren Grenzwert (ohne Atmosphäre), den oberen Grenzwert (Maximaler Treibhauseffekt) und den derzeitigen Wert für die globale Mitteltemperatur bestimmt. Diese liegen bei -18°C, 29°C und 14°C. \n",
    "\n",
    "Ihr habt damit euer erstes kleines Klimamodel mit aufgestellt, das einzig und allein auf fundamentalen physikalischen Gesetzen beruht. \n",
    "\n",
    "# Klimawandel\n",
    "\n",
    "In Realität ist dieses Gleichgewicht deutlich komplexer und beschäftigt daher global unzählige Wissenschaftler:innen. Entscheidend für Unsicherheiten sind die oben angenommenen Werte für die Emissivität, die mittlere globale Albedo und Wolken, die dazu führen, dass die Atmosphäre nicht mehr zu 100% durchlässig für die Einstrahlung ist. Außerdem haben wir die jährlichen Schwankungen der Einstrahlung um mehrere Wm2 nicht berücksichtigt. Dies führt alles dazu, dass sich das Klimasystem dynamischer verhält als oben angemommen. Nichtdestotrotz, können wir mit diesem einfachen Model den Gleichgewichtszustand annähernd berechnen und untersuchen, was zum Beispiel passiert, wenn die Atmosphäre durch eine höhere CO2 Konzentration ein etwas höheres Absorptionsvermögen bekommt, oder wenn die globale Albedo abnimmt, weil die Eiskappen schmelzen. Für das Absroptionsvermögen (Emmissivität) haben wir Euch ein kleines Tool vorbereitet, damit ihr interaktiv die Werte ändern könnt. Die Albedo könnt ihr probieren im Programmcode selber zu ändern.\n"
   ]
  },
  {
   "cell_type": "code",
   "execution_count": 9,
   "metadata": {},
   "outputs": [
    {
     "data": {
      "application/vnd.jupyter.widget-view+json": {
       "model_id": "6da79d6685ba42ef80b8ee7174b4a286",
       "version_major": 2,
       "version_minor": 0
      },
      "text/plain": [
       "interactive(children=(FloatSlider(value=0.77, description='epsilon_A', layout=Layout(width='800px'), max=1.0, …"
      ]
     },
     "metadata": {},
     "output_type": "display_data"
    },
    {
     "data": {
      "text/plain": [
       "<function __main__.f(epsilon_A)>"
      ]
     },
     "execution_count": 9,
     "metadata": {},
     "output_type": "execute_result"
    }
   ],
   "source": [
    "import ipywidgets as widgets # dies ist eine Programmbibliothek, die uns ermöglicht interaktiv mit einem Slider\n",
    "# mit dem Programm zu interagieren\n",
    "\n",
    "# Physikalische Konstanten (nicht verändern):\n",
    "\n",
    "sigma = 5.670374419e-8 # W m-2 K-4 Stefan-Boltzmann-Konstante\n",
    "\n",
    "# Variablen:\n",
    "\n",
    "E_s = 1366 # W m-2 TOA Einstrahlung \n",
    "A = 0.3 # Albedo\n",
    "\n",
    "epsilon_A_start = 0.77 # Start Emissivität der Atmosphäre\n",
    "\n",
    "# Energiebilanz Model 3\n",
    "\n",
    "def f(epsilon_A):\n",
    "    T_A = (((1./(2.-epsilon_A))**(1./4.)) * (((1.-A)*E_s/4.)/sigma))**(1./4.)\n",
    "    T_B = ((2./(2.-epsilon_A))**(1./4.)) * ((((1.-A)*E_s/4.)/sigma)**(1./4.))\n",
    "    \n",
    "    F_A_077 = 0.77*sigma*(((1./(2.-0.77))**(1./4.)) * (((1.-A)*E_s/4.)/sigma)) # Atmosphärische Rückstrahlung bei 0.77\n",
    "    F_A = epsilon_A*sigma*T_A**4 - F_A_077 # Atmosphärische Rückstrahlung beim gewählten Epsilon\n",
    "    \n",
    "    print('Aus einem Absorptionsvermögen von %.2f ergibt sich eine um %.2f Wm2 \\nerhöhte (+) oder ' %(epsilon_A,F_A)+\n",
    "          'verringerte (-) Rückstrahlung aus der Atmosphäre\\n\\n'+\n",
    "          'Dies führt zu \\neiner Bodentemperatur von %i°C und \\n' %(T_B-273.15)+\n",
    "          'einer Atmosphärentemperatur von %i°C' %(T_A-273.15))\n",
    "\n",
    "widgets.interact(f, epsilon_A=widgets.FloatSlider(min=0, max=1, step=0.01, value=epsilon_A_start,\n",
    "                                                 layout=widgets.Layout(width='800px'))) # Slider\n"
   ]
  },
  {
   "cell_type": "markdown",
   "metadata": {},
   "source": [
    "## Sonderaufgabe:\n",
    "\n",
    "Laut dem Pariser Klimaabkommen sollen ausreichend Gegenmaßnahmen unternommen werden, damit die globale Erwärmung auf 1.5°C beschränkt bleibt. Findet heraus, wieviel höher die atmosphärische Rückstrahlung in dem einfachen Modell sein dürfte, damit die Temperatur nicht mehr als 1.5°C steigt. Knifflig wird es, da das Python-Script bisher nur ganze Zahlen für die Temperaturen und keine Nachkommastellen (sogenannte *Floating-Point Precision*) ausgibt. Versucht herauszufinden, wie ihr das obige Print-Statement an der Stelle \"%i°C\" entsprechend umschreiben könnt. ",
    "Wie sich die Energiebilanz in modernen Klimamodellen auswirkt findet ihr zum Beispiel im neuesten [IPCC Report](https://www.ipcc.ch/report/ar6/wg1/downloads/report/IPCC_AR6_WGI_SPM.pdf). "
   ]
  },
  {
   "cell_type": "code",
   "execution_count": null,
   "metadata": {},
   "outputs": [],
   "source": []
  }
 ],
 "metadata": {
  "kernelspec": {
   "display_name": "Python 3",
   "language": "python",
   "name": "python3"
  },
  "language_info": {
   "codemirror_mode": {
    "name": "ipython",
    "version": 3
   },
   "file_extension": ".py",
   "mimetype": "text/x-python",
   "name": "python",
   "nbconvert_exporter": "python",
   "pygments_lexer": "ipython3",
   "version": "3.7.6"
  }
 },
 "nbformat": 4,
 "nbformat_minor": 5
}
